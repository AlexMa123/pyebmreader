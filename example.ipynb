{
 "cells": [
  {
   "cell_type": "code",
   "execution_count": 1,
   "metadata": {},
   "outputs": [],
   "source": [
    "from tools import load_header, get_ebm_headers, correct_edf"
   ]
  },
  {
   "cell_type": "code",
   "execution_count": 2,
   "metadata": {},
   "outputs": [
    {
     "name": "stdout",
     "output_type": "stream",
     "text": [
      "28.7 s ± 1.09 s per loop (mean ± std. dev. of 7 runs, 1 loop each)\n"
     ]
    }
   ],
   "source": [
    "header = get_ebm_headers(\"SL012/\", save=True, savefolder=\"ebm_headers/\")\n",
    "# input: embla folder, whether save header or not, where to save the header\n",
    "header = load_header(\"./ebm_headers/SL012_header.pickle\")\n",
    "# load the header\n",
    "correct_edf(\"./SL012.edf\", header, \"./Corrected_SL012.edf\")\n",
    "# correct old edf file"
   ]
  },
  {
   "cell_type": "code",
   "execution_count": null,
   "metadata": {},
   "outputs": [],
   "source": []
  }
 ],
 "metadata": {
  "kernelspec": {
   "display_name": "Python 3.7.7 64-bit ('sleep': conda)",
   "language": "python",
   "name": "python37764bitsleepcondafba258ca01a140df9a0fedc6027b3354"
  },
  "language_info": {
   "codemirror_mode": {
    "name": "ipython",
    "version": 3
   },
   "file_extension": ".py",
   "mimetype": "text/x-python",
   "name": "python",
   "nbconvert_exporter": "python",
   "pygments_lexer": "ipython3",
   "version": "3.8.8"
  }
 },
 "nbformat": 4,
 "nbformat_minor": 5
}
